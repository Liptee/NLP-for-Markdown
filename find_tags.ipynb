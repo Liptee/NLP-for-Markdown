{
 "cells": [
  {
   "cell_type": "code",
   "execution_count": 286,
   "metadata": {},
   "outputs": [],
   "source": [
    "from nltk.tokenize import word_tokenize\n",
    "from nltk import sent_tokenize\n",
    "from nltk import ne_chunk_sents\n",
    "from nltk import pos_tag\n",
    "import nltk\n",
    "import numpy as np"
   ]
  },
  {
   "cell_type": "code",
   "execution_count": 292,
   "metadata": {},
   "outputs": [],
   "source": [
    "doc = \"data/CERN.md\""
   ]
  },
  {
   "cell_type": "code",
   "execution_count": 293,
   "metadata": {},
   "outputs": [],
   "source": [
    "with open(doc, 'r+') as f:\n",
    "    sample = f.read()"
   ]
  },
  {
   "cell_type": "code",
   "execution_count": 294,
   "metadata": {},
   "outputs": [],
   "source": [
    "sentences = sent_tokenize(sample)\n",
    "tokenized_sent = [word_tokenize(sentence) for sentence in sentences]\n",
    "tagged_sent = [pos_tag(sentence) for sentence in tokenized_sent]\n",
    "chunked_sent = ne_chunk_sents(tagged_sent)\n",
    "tags = []\n",
    "for tree in chunked_sent:\n",
    "    for word in tree:\n",
    "        if 'nltk' in str(type(word)) and list(word) not in tags:\n",
    "            tags.append(list(word))"
   ]
  },
  {
   "cell_type": "code",
   "execution_count": 295,
   "metadata": {},
   "outputs": [],
   "source": [
    "tegi = []\n",
    "for tag in tags:\n",
    "    if len(tag) == 1:\n",
    "        tegi.append(tag[0][0].upper())\n",
    "    else:\n",
    "        string = tag[0][0]\n",
    "        for ex in tag[1:]:\n",
    "            string+=\"_\"\n",
    "            string+=ex[0]\n",
    "        tegi.append(string.upper())\n"
   ]
  },
  {
   "cell_type": "code",
   "execution_count": 296,
   "metadata": {},
   "outputs": [],
   "source": [
    "with open(doc, 'a') as f:\n",
    "    f.write('\\n')\n",
    "    for teg in tegi:\n",
    "        f.write('\\n')\n",
    "        f.write(f\"#{teg}\")"
   ]
  },
  {
   "cell_type": "code",
   "execution_count": null,
   "metadata": {},
   "outputs": [],
   "source": []
  }
 ],
 "metadata": {
  "kernelspec": {
   "display_name": "Python 3.10.4 ('НИР_2-WuA8f2ou')",
   "language": "python",
   "name": "python3"
  },
  "language_info": {
   "codemirror_mode": {
    "name": "ipython",
    "version": 3
   },
   "file_extension": ".py",
   "mimetype": "text/x-python",
   "name": "python",
   "nbconvert_exporter": "python",
   "pygments_lexer": "ipython3",
   "version": "3.10.4"
  },
  "orig_nbformat": 4,
  "vscode": {
   "interpreter": {
    "hash": "e2e6c9fab53fc3211fd37e0beae5e4569e950ef80c5ec8c35b734107b47e84f3"
   }
  }
 },
 "nbformat": 4,
 "nbformat_minor": 2
}
